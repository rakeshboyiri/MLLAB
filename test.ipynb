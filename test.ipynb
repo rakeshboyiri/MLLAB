{
 "cells": [
  {
   "cell_type": "code",
   "execution_count": 32,
   "metadata": {},
   "outputs": [
    {
     "data": {
      "text/plain": [
       "'0+1+2+3+4+5'"
      ]
     },
     "execution_count": 32,
     "metadata": {},
     "output_type": "execute_result"
    }
   ],
   "source": [
    "li = (\"0\", \"1\", \"2\", \"3\", \"4\", \"5\")\n",
    "str = \"+\"\n",
    "# print(str.join(li))\n",
    "temp = str.join(li)\n",
    "temp"
   ]
  },
  {
   "cell_type": "code",
   "execution_count": 33,
   "metadata": {},
   "outputs": [
    {
     "ename": "TypeError",
     "evalue": "'str' object is not callable",
     "output_type": "error",
     "traceback": [
      "\u001b[0;31m---------------------------------------------------------------------------\u001b[0m",
      "\u001b[0;31mTypeError\u001b[0m                                 Traceback (most recent call last)",
      "Cell \u001b[0;32mIn[33], line 17\u001b[0m\n\u001b[1;32m     15\u001b[0m ans \u001b[38;5;241m=\u001b[39m []\n\u001b[1;32m     16\u001b[0m k \u001b[38;5;241m=\u001b[39m \u001b[38;5;241m0\u001b[39m \n\u001b[0;32m---> 17\u001b[0m \u001b[38;5;28;43mbin\u001b[39;49m\u001b[43m(\u001b[49m\u001b[43mans\u001b[49m\u001b[43m,\u001b[49m\u001b[43mk\u001b[49m\u001b[43m,\u001b[49m\u001b[43mn\u001b[49m\u001b[43m)\u001b[49m\n",
      "Cell \u001b[0;32mIn[33], line 10\u001b[0m, in \u001b[0;36mbin\u001b[0;34m(ans, k, n)\u001b[0m\n\u001b[1;32m      8\u001b[0m     \u001b[38;5;28;01mif\u001b[39;00m (i\u001b[38;5;241m==\u001b[39m\u001b[38;5;241m1\u001b[39m \u001b[38;5;129;01mand\u001b[39;00m ans[k\u001b[38;5;241m-\u001b[39m\u001b[38;5;241m1\u001b[39m]\u001b[38;5;241m==\u001b[39m\u001b[38;5;124m\"\u001b[39m\u001b[38;5;124m1\u001b[39m\u001b[38;5;124m\"\u001b[39m):\n\u001b[1;32m      9\u001b[0m             \u001b[38;5;28;01mreturn\u001b[39;00m \n\u001b[0;32m---> 10\u001b[0m ans\u001b[38;5;241m.\u001b[39mappend(\u001b[38;5;28;43mstr\u001b[39;49m\u001b[43m(\u001b[49m\u001b[43mi\u001b[49m\u001b[43m)\u001b[49m)\n\u001b[1;32m     11\u001b[0m \u001b[38;5;28mbin\u001b[39m(ans,k\u001b[38;5;241m+\u001b[39m\u001b[38;5;241m1\u001b[39m,n)\n\u001b[1;32m     12\u001b[0m ans\u001b[38;5;241m.\u001b[39mpop()\n",
      "\u001b[0;31mTypeError\u001b[0m: 'str' object is not callable"
     ]
    }
   ],
   "source": [
    "def bin(ans,k,n):\n",
    "    if(k==n):\n",
    "        print(\"\".join(ans))\n",
    "        return\n",
    "    else:\n",
    "        for i in range(2):\n",
    "            if k >0:\n",
    "                if (i==1 and ans[k-1]==\"1\"):\n",
    "                        return \n",
    "            ans.append(str(i))\n",
    "            bin(ans,k+1,n)\n",
    "            ans.pop()\n",
    "# Code here\n",
    "n = 4\n",
    "ans = []\n",
    "k = 0 \n",
    "bin(ans,k,n)"
   ]
  },
  {
   "cell_type": "code",
   "execution_count": null,
   "metadata": {},
   "outputs": [
    {
     "ename": "TypeError",
     "evalue": "'str' object is not callable",
     "output_type": "error",
     "traceback": [
      "\u001b[0;31m---------------------------------------------------------------------------\u001b[0m",
      "\u001b[0;31mTypeError\u001b[0m                                 Traceback (most recent call last)",
      "Cell \u001b[0;32mIn[17], line 19\u001b[0m\n\u001b[1;32m     17\u001b[0m n \u001b[38;5;241m=\u001b[39m \u001b[38;5;241m4\u001b[39m\n\u001b[1;32m     18\u001b[0m ans \u001b[38;5;241m=\u001b[39m []\n\u001b[0;32m---> 19\u001b[0m \u001b[38;5;28;43mbin\u001b[39;49m\u001b[43m(\u001b[49m\u001b[43mans\u001b[49m\u001b[43m,\u001b[49m\u001b[43m \u001b[49m\u001b[38;5;241;43m0\u001b[39;49m\u001b[43m,\u001b[49m\u001b[43m \u001b[49m\u001b[43mn\u001b[49m\u001b[43m)\u001b[49m\n",
      "Cell \u001b[0;32mIn[17], line 12\u001b[0m, in \u001b[0;36mbin\u001b[0;34m(ans, k, n)\u001b[0m\n\u001b[1;32m     10\u001b[0m \u001b[38;5;28;01mif\u001b[39;00m k \u001b[38;5;241m>\u001b[39m \u001b[38;5;241m0\u001b[39m \u001b[38;5;129;01mand\u001b[39;00m i \u001b[38;5;241m==\u001b[39m \u001b[38;5;241m1\u001b[39m \u001b[38;5;129;01mand\u001b[39;00m ans[k\u001b[38;5;241m-\u001b[39m\u001b[38;5;241m1\u001b[39m] \u001b[38;5;241m==\u001b[39m \u001b[38;5;124m\"\u001b[39m\u001b[38;5;124m1\u001b[39m\u001b[38;5;124m\"\u001b[39m:\n\u001b[1;32m     11\u001b[0m     \u001b[38;5;28;01mcontinue\u001b[39;00m  \u001b[38;5;66;03m# Skip this iteration instead of returning.\u001b[39;00m\n\u001b[0;32m---> 12\u001b[0m ans\u001b[38;5;241m.\u001b[39mappend(\u001b[38;5;28;43mstr\u001b[39;49m\u001b[43m(\u001b[49m\u001b[43mi\u001b[49m\u001b[43m)\u001b[49m)  \u001b[38;5;66;03m# Append as a string.\u001b[39;00m\n\u001b[1;32m     13\u001b[0m \u001b[38;5;28mbin\u001b[39m(ans, k \u001b[38;5;241m+\u001b[39m \u001b[38;5;241m1\u001b[39m, n)\n\u001b[1;32m     14\u001b[0m ans\u001b[38;5;241m.\u001b[39mpop()\n",
      "\u001b[0;31mTypeError\u001b[0m: 'str' object is not callable"
     ]
    }
   ],
   "source": [
    "def bin(ans, k, n):\n",
    "    if k == n:\n",
    "        # Now ans is a list of strings, so we can join directly.\n",
    "        print(\"\".join(ans))\n",
    "        return\n",
    "    else:\n",
    "        for i in range(2):\n",
    "            # If not at the first digit and the previous digit is \"1\",\n",
    "            # skip appending \"1\" again to avoid consecutive ones.\n",
    "            if k > 0 and i == 1 and ans[k-1] == \"1\":\n",
    "                continue  # Skip this iteration instead of returning.\n",
    "            ans.append(str(i))  # Append as a string.\n",
    "            bin(ans, k + 1, n)\n",
    "            ans.pop()  # Backtrack.\n",
    "\n",
    "# Code usage:\n",
    "n = 4\n",
    "ans = []\n",
    "bin(ans, 0, n)\n"
   ]
  },
  {
   "cell_type": "code",
   "execution_count": null,
   "metadata": {},
   "outputs": [
    {
     "name": "stdout",
     "output_type": "stream",
     "text": [
      "abc\n",
      "ab\n",
      "ac\n",
      "a\n",
      "bc\n",
      "b\n",
      "c\n",
      "\n"
     ]
    }
   ],
   "source": [
    "\n",
    "def power(a,ans,k):\n",
    "    if k == len(a):\n",
    "        print(\"\".join(ans))\n",
    "        # print(ans)\n",
    "        return\n",
    "    ans.append(a[k])\n",
    "    power(a, ans, k + 1)\n",
    "    ans.pop()\n",
    "    power(a, ans, k + 1)\n",
    "    \n",
    "\n",
    "\n",
    "\n",
    "\n",
    "a = \"abc\"\n",
    "ans = []\n",
    "k = 0 \n",
    "power(a,ans,k)"
   ]
  },
  {
   "cell_type": "code",
   "execution_count": null,
   "metadata": {},
   "outputs": [
    {
     "ename": "AttributeError",
     "evalue": "'str' object has no attribute 'pop'",
     "output_type": "error",
     "traceback": [
      "\u001b[0;31m---------------------------------------------------------------------------\u001b[0m",
      "\u001b[0;31mAttributeError\u001b[0m                            Traceback (most recent call last)",
      "Cell \u001b[0;32mIn[18], line 2\u001b[0m\n\u001b[1;32m      1\u001b[0m s \u001b[38;5;241m=\u001b[39m \u001b[38;5;124m\"\u001b[39m\u001b[38;5;124mabc\u001b[39m\u001b[38;5;124m\"\u001b[39m\n\u001b[0;32m----> 2\u001b[0m \u001b[43ms\u001b[49m\u001b[38;5;241;43m.\u001b[39;49m\u001b[43mpop\u001b[49m()\n",
      "\u001b[0;31mAttributeError\u001b[0m: 'str' object has no attribute 'pop'"
     ]
    }
   ],
   "source": [
    "s = \"abc\"\n",
    "s.pop()"
   ]
  },
  {
   "cell_type": "code",
   "execution_count": null,
   "metadata": {},
   "outputs": [
    {
     "data": {
      "text/plain": [
       "1"
      ]
     },
     "execution_count": 15,
     "metadata": {},
     "output_type": "execute_result"
    }
   ],
   "source": [
    "import random \n",
    "\n",
    "x = random.choice([1,2,3,4,5])  \n",
    "x"
   ]
  },
  {
   "cell_type": "code",
   "execution_count": null,
   "metadata": {},
   "outputs": [],
   "source": [
    "import os\n",
    "\n",
    "os.mkdir(\"Rakesh\")"
   ]
  },
  {
   "cell_type": "code",
   "execution_count": null,
   "metadata": {},
   "outputs": [
    {
     "name": "stdout",
     "output_type": "stream",
     "text": [
      "['Rakesh', 'is', 'is', 'good', 'boy']\n"
     ]
    }
   ],
   "source": [
    "with open(\"new.txt\") as file:\n",
    "    data = file.read()\n",
    "    str = data.split()\n",
    "    print(str)\n"
   ]
  },
  {
   "cell_type": "code",
   "execution_count": null,
   "metadata": {},
   "outputs": [
    {
     "name": "stdout",
     "output_type": "stream",
     "text": [
      "Error: Division by zero\n",
      "Hello\n"
     ]
    }
   ],
   "source": [
    "\n",
    "try :\n",
    "    a = 10 /0\n",
    "except :\n",
    "    print(\"Error: Division by zero\")\n",
    "print(\"Hello\")"
   ]
  },
  {
   "cell_type": "code",
   "execution_count": null,
   "metadata": {},
   "outputs": [
    {
     "name": "stdout",
     "output_type": "stream",
     "text": [
      "Sorted array: [1, 2, 3, 4, 5]\n"
     ]
    }
   ],
   "source": [
    "arr = [5, 4, 3, 2, 1]\n",
    "\n",
    "def mergesort(arr, low, high):\n",
    "    if low < high:\n",
    "        mid = (low + high) // 2\n",
    "        mergesort(arr, low, mid)\n",
    "        mergesort(arr, mid + 1, high)\n",
    "        merge(arr, low, mid, high)\n",
    "\n",
    "def merge(arr, low, mid, high):\n",
    "    i = low\n",
    "    j = mid + 1\n",
    "    k = 0  # Temp array index\n",
    "    temp = [0] * (high - low + 1)   \n",
    "\n",
    "    while i <= mid and j <= high:\n",
    "        if arr[i] < arr[j]:\n",
    "            temp[k] = arr[i]\n",
    "            i += 1\n",
    "        else:\n",
    "            temp[k] = arr[j]\n",
    "            j += 1\n",
    "        k += 1\n",
    "\n",
    "    while i <= mid:\n",
    "        temp[k] = arr[i]\n",
    "        i += 1\n",
    "        k += 1\n",
    "\n",
    "    while j <= high:\n",
    "        temp[k] = arr[j]\n",
    "        j += 1\n",
    "        k += 1\n",
    "\n",
    "    # Copy back to the original array\n",
    "    for i in range(len(temp)):\n",
    "        arr[low + i] = temp[i]\n",
    "\n",
    "mergesort(arr, 0, len(arr) - 1)\n",
    "print(\"Sorted array:\", arr)\n"
   ]
  },
  {
   "cell_type": "code",
   "execution_count": null,
   "metadata": {},
   "outputs": [
    {
     "name": "stdout",
     "output_type": "stream",
     "text": [
      "[0, 1, 2, 3, 4, 5]\n"
     ]
    }
   ],
   "source": [
    "arr = [5,4,3,2,1,0]\n",
    "\n",
    "def mergesort(arr,low,high):\n",
    "    if low < high :\n",
    "        mid = (low + high) //2\n",
    "        mergesort(arr,low,mid)\n",
    "        mergesort(arr,mid+1,high)\n",
    "        merge(arr,low,mid,high)\n",
    "def merge(arr,low,mid,high):\n",
    "    i = low \n",
    "    j = mid +1\n",
    "    k = 0 \n",
    "    temp = [0] * (high - low + 1)\n",
    "    while i<=mid and j <= high:\n",
    "        if arr[i] < arr[j]:\n",
    "            temp[k] = arr[i]\n",
    "            i+=1\n",
    "            \n",
    "        else:\n",
    "            temp[k] = arr[j]\n",
    "            j+=1\n",
    "        k+=1\n",
    "    while i<=mid:\n",
    "        temp[k] = arr[i]\n",
    "        k+=1\n",
    "        i+=1\n",
    "    while j<=high :\n",
    "        temp[k] = arr[j]\n",
    "        k+=1\n",
    "        j+=1\n",
    "    for i in range(len(temp)):\n",
    "        arr[i+low] = temp[i]\n",
    "\n",
    "\n",
    "mergesort(arr,0,len(arr)-1)\n",
    "print(arr)\n"
   ]
  },
  {
   "cell_type": "code",
   "execution_count": null,
   "metadata": {},
   "outputs": [
    {
     "name": "stdout",
     "output_type": "stream",
     "text": [
      "[0, 1, 2, 3, 4, 5, 6, 7, 8, 9, 10]\n"
     ]
    }
   ],
   "source": [
    "def merge(arr):\n",
    "    if len(arr)>1 :\n",
    "        mid = (len(arr))//2\n",
    "        left = arr[:mid]\n",
    "        right = arr[mid:]\n",
    "        merge(left)\n",
    "        merge(right)\n",
    "\n",
    "\n",
    "        i = j = k = 0 \n",
    "        while i<len(left) and j<len(right):\n",
    "            if left[i] < right[j]:\n",
    "                arr[k] = left[i]\n",
    "                i+=1\n",
    "            else :\n",
    "                arr[k] = right[j]\n",
    "                j+=1\n",
    "            k+=1\n",
    "        while i<len(left):\n",
    "            arr[k] = left[i]\n",
    "            i+=1\n",
    "            k+=1\n",
    "        while j<len(right):\n",
    "            arr[k] = right[j]\n",
    "            j+=1\n",
    "            k+=1\n",
    "arr = [10,9,8,7,6,5,4,3,2,1,0]\n",
    "merge(arr)\n",
    "print(arr)"
   ]
  },
  {
   "cell_type": "code",
   "execution_count": 36,
   "metadata": {},
   "outputs": [
    {
     "name": "stdout",
     "output_type": "stream",
     "text": [
      "[0, 1, 2, 2, 3, 3, 4, 5]\n"
     ]
    }
   ],
   "source": [
    "arr = [3,2,5,4,3,2,1,0]\n",
    "\n",
    "def quick(arr,low,high):\n",
    "    if low < high :\n",
    "        pivot = partition(arr,low,high)\n",
    "        quick(arr,low,pivot-1)\n",
    "        quick(arr,pivot+1,high)\n",
    "\n",
    "def partition(arr,low,high):\n",
    "    pi = arr[high]\n",
    "    i = low -1 \n",
    "    for j in range(low,high):\n",
    "        if arr[j] <= pi :\n",
    "            i += 1\n",
    "            arr[i],arr[j] = arr[j],arr[i]\n",
    "    arr[i+1],arr[high] = arr[high],arr[i+1]\n",
    "    return (i+1)\n",
    "\n",
    "quick(arr,0,len(arr)-1)\n",
    "print(arr)"
   ]
  },
  {
   "cell_type": "code",
   "execution_count": null,
   "metadata": {},
   "outputs": [
    {
     "name": "stdout",
     "output_type": "stream",
     "text": [
      "[1, 2, 3, 4, 5]\n",
      "[1, 2, 3, 4, 5, 6, 7, 8]\n"
     ]
    }
   ],
   "source": [
    "l1 = [1,2,3,4,5]\n",
    "print(l1)\n",
    "l1.extend([6,7,8])\n",
    "print(l1) "
   ]
  },
  {
   "cell_type": "code",
   "execution_count": 35,
   "metadata": {},
   "outputs": [
    {
     "name": "stdout",
     "output_type": "stream",
     "text": [
      "rakesh\n"
     ]
    }
   ],
   "source": [
    "s = \"rakesh\"\n",
    "# s.center(20)\n",
    "# s.encode(encoding=\"utf-8\")\n",
    "s.expandtabs(5)\n",
    "s.format({'s': \"ss\"})\n",
    "print(s)\n",
    "\n"
   ]
  },
  {
   "cell_type": "code",
   "execution_count": 36,
   "metadata": {},
   "outputs": [
    {
     "name": "stdout",
     "output_type": "stream",
     "text": [
      "My name is rakesh and my roll number is 21\n"
     ]
    }
   ],
   "source": [
    "name = \"rakesh\"\n",
    "roll = 21 \n",
    "\n",
    "print(\"My name is %s and my roll number is %d\" % (name, roll))"
   ]
  },
  {
   "cell_type": "code",
   "execution_count": 37,
   "metadata": {},
   "outputs": [
    {
     "name": "stdout",
     "output_type": "stream",
     "text": [
      "My name is rakesh and my roll number is 21\n"
     ]
    }
   ],
   "source": [
    "print(\"My name is {} and my roll number is {}\".format(name, roll))"
   ]
  },
  {
   "cell_type": "code",
   "execution_count": 38,
   "metadata": {},
   "outputs": [
    {
     "name": "stdout",
     "output_type": "stream",
     "text": [
      "My name is rakesh and my roll number is 21\n"
     ]
    }
   ],
   "source": [
    "print(f\"My name is {name} and my roll number is {roll}\")"
   ]
  },
  {
   "cell_type": "code",
   "execution_count": 59,
   "metadata": {},
   "outputs": [
    {
     "name": "stdout",
     "output_type": "stream",
     "text": [
      "1R2R3R4R5\n",
      "!\n"
     ]
    }
   ],
   "source": [
    "li = [\"1\", \"2\", \"3\", \"4\", \"5\"]\n",
    "str = \"!\"\n",
    "print(\"R\".join(li))\n",
    "print(str)"
   ]
  },
  {
   "cell_type": "code",
   "execution_count": 69,
   "metadata": {},
   "outputs": [
    {
     "name": "stdout",
     "output_type": "stream",
     "text": [
      "rakesh\n"
     ]
    }
   ],
   "source": [
    "print(name.ljust(1))\n",
    "name = \"     \" + name"
   ]
  },
  {
   "cell_type": "code",
   "execution_count": 72,
   "metadata": {},
   "outputs": [
    {
     "data": {
      "text/plain": [
       "'rakesh'"
      ]
     },
     "execution_count": 72,
     "metadata": {},
     "output_type": "execute_result"
    }
   ],
   "source": [
    "name.lstrip()\n",
    "# print(name)"
   ]
  },
  {
   "cell_type": "code",
   "execution_count": 76,
   "metadata": {},
   "outputs": [
    {
     "data": {
      "text/plain": [
       "('     ra', 'k', 'esh')"
      ]
     },
     "execution_count": 76,
     "metadata": {},
     "output_type": "execute_result"
    }
   ],
   "source": [
    "name.partition(\"k\")"
   ]
  },
  {
   "cell_type": "code",
   "execution_count": 77,
   "metadata": {},
   "outputs": [
    {
     "data": {
      "text/plain": [
       "('', 'a', '')"
      ]
     },
     "execution_count": 77,
     "metadata": {},
     "output_type": "execute_result"
    }
   ],
   "source": [
    "s = \"a\"\n",
    "s.partition(\"a\")"
   ]
  },
  {
   "cell_type": "code",
   "execution_count": 78,
   "metadata": {},
   "outputs": [
    {
     "data": {
      "text/plain": [
       "'     rkkkesh'"
      ]
     },
     "execution_count": 78,
     "metadata": {},
     "output_type": "execute_result"
    }
   ],
   "source": [
    "name.replace(\"a\", \"kk\")"
   ]
  },
  {
   "cell_type": "code",
   "execution_count": 93,
   "metadata": {},
   "outputs": [
    {
     "name": "stdout",
     "output_type": "stream",
     "text": [
      "True\n",
      "False\n"
     ]
    }
   ],
   "source": [
    "for i in range(10):\n",
    "    match i:\n",
    "        case 5:\n",
    "            print(\"True\")\n",
    "        case 6:\n",
    "            print(\"False\")\n",
    "        case 1  ,2:\n",
    "            print(\"None\")"
   ]
  },
  {
   "cell_type": "code",
   "execution_count": 100,
   "metadata": {},
   "outputs": [
    {
     "name": "stdout",
     "output_type": "stream",
     "text": [
      "True\n"
     ]
    }
   ],
   "source": [
    "n = int(input())\n",
    "ans  = 0 \n",
    "temp = n \n",
    "while n > 0 :\n",
    "    rem = n % 10 \n",
    "    ans = ans * 10 + rem\n",
    "    n //= 10\n",
    "print(ans==temp)"
   ]
  },
  {
   "cell_type": "code",
   "execution_count": 106,
   "metadata": {},
   "outputs": [
    {
     "name": "stdout",
     "output_type": "stream",
     "text": [
      "10\n"
     ]
    }
   ],
   "source": [
    "n1 = 10 \n",
    "n2 = 20 \n",
    "check = min(n1, n2)\n",
    "fact = 1 \n",
    "for i in range(check,1,-1):\n",
    "    if n1%i == 0 and n2%i == 0:\n",
    "        fact = i \n",
    "        break\n",
    "print(fact)"
   ]
  },
  {
   "cell_type": "code",
   "execution_count": 110,
   "metadata": {},
   "outputs": [
    {
     "data": {
      "text/plain": [
       "1"
      ]
     },
     "execution_count": 110,
     "metadata": {},
     "output_type": "execute_result"
    }
   ],
   "source": [
    "import math\n",
    "math.gcd(10,20,30,7)"
   ]
  },
  {
   "cell_type": "markdown",
   "metadata": {},
   "source": []
  },
  {
   "cell_type": "code",
   "execution_count": null,
   "metadata": {},
   "outputs": [
    {
     "ename": "TypeError",
     "evalue": "p() missing 1 required positional argument: 'ans'",
     "output_type": "error",
     "traceback": [
      "\u001b[0;31m---------------------------------------------------------------------------\u001b[0m",
      "\u001b[0;31mTypeError\u001b[0m                                 Traceback (most recent call last)",
      "Cell \u001b[0;32mIn[114], line 8\u001b[0m\n\u001b[1;32m      6\u001b[0m     rem \u001b[38;5;241m=\u001b[39m n \u001b[38;5;241m%\u001b[39m \u001b[38;5;241m10\u001b[39m \n\u001b[1;32m      7\u001b[0m     \u001b[38;5;28;01mreturn\u001b[39;00m ans\u001b[38;5;241m*\u001b[39m\u001b[38;5;241m10\u001b[39m \u001b[38;5;241m+\u001b[39m rem \u001b[38;5;241m+\u001b[39m p(n\u001b[38;5;241m/\u001b[39m\u001b[38;5;241m/\u001b[39m\u001b[38;5;241m10\u001b[39m)\n\u001b[0;32m----> 8\u001b[0m \u001b[43mp\u001b[49m\u001b[43m(\u001b[49m\u001b[43mn\u001b[49m\u001b[43m,\u001b[49m\u001b[38;5;241;43m0\u001b[39;49m\u001b[43m)\u001b[49m\n",
      "Cell \u001b[0;32mIn[114], line 7\u001b[0m, in \u001b[0;36mp\u001b[0;34m(n, ans)\u001b[0m\n\u001b[1;32m      5\u001b[0m     \u001b[38;5;28;01mreturn\u001b[39;00m  \u001b[38;5;241m0\u001b[39m\n\u001b[1;32m      6\u001b[0m rem \u001b[38;5;241m=\u001b[39m n \u001b[38;5;241m%\u001b[39m \u001b[38;5;241m10\u001b[39m \n\u001b[0;32m----> 7\u001b[0m \u001b[38;5;28;01mreturn\u001b[39;00m ans\u001b[38;5;241m*\u001b[39m\u001b[38;5;241m10\u001b[39m \u001b[38;5;241m+\u001b[39m rem \u001b[38;5;241m+\u001b[39m \u001b[43mp\u001b[49m\u001b[43m(\u001b[49m\u001b[43mn\u001b[49m\u001b[38;5;241;43m/\u001b[39;49m\u001b[38;5;241;43m/\u001b[39;49m\u001b[38;5;241;43m10\u001b[39;49m\u001b[43m)\u001b[49m\n",
      "\u001b[0;31mTypeError\u001b[0m: p() missing 1 required positional argument: 'ans'"
     ]
    }
   ],
   "source": [
    "\\"
   ]
  },
  {
   "cell_type": "code",
   "execution_count": 120,
   "metadata": {},
   "outputs": [
    {
     "name": "stdout",
     "output_type": "stream",
     "text": [
      "0 1 1 2 3 5 "
     ]
    }
   ],
   "source": [
    "n = 5 \n",
    "fab1 = 0 \n",
    "fab2 = 1 \n",
    "print(0,end= \" \")\n",
    "for i in range(n):\n",
    "    fab1,fab2 = fab2,fab1+fab2\n",
    "    print(fab1,end=\" \")\n"
   ]
  },
  {
   "cell_type": "code",
   "execution_count": 131,
   "metadata": {},
   "outputs": [
    {
     "name": "stdout",
     "output_type": "stream",
     "text": [
      "55\n"
     ]
    }
   ],
   "source": [
    "def fib(n):\n",
    "    if n <= 1 :\n",
    "        return n \n",
    "    else :\n",
    "        return fib(n-1) + fib(n-2)\n",
    "print(fib(10))"
   ]
  },
  {
   "cell_type": "code",
   "execution_count": 138,
   "metadata": {},
   "outputs": [
    {
     "name": "stdout",
     "output_type": "stream",
     "text": [
      "{1: 1, 2: 6, 6: 1, 5: 1}\n"
     ]
    }
   ],
   "source": [
    "arr = [1,2,6,5,2,2,2,2,2]\n",
    "d = dict()\n",
    "for i in arr :\n",
    "    if d.get(i):\n",
    "        d[i] = d[i] +1\n",
    "    else :\n",
    "        d[i] = 1\n",
    "print(d)"
   ]
  },
  {
   "cell_type": "code",
   "execution_count": 144,
   "metadata": {},
   "outputs": [
    {
     "name": "stdout",
     "output_type": "stream",
     "text": [
      "[7, 6, 5, 4, 3, 1, 0]\n"
     ]
    }
   ],
   "source": [
    "#Selection Sort Order\n",
    "\n",
    "arr = [4,5,3,1,7,6,0]\n",
    "for i in range(len(arr)):\n",
    "    j = i \n",
    "    while j > 0 and arr[j] > arr[j-1]:\n",
    "        arr[j],arr[j-1] = arr[j-1],arr[j]\n",
    "        j -= 1\n",
    "print(arr)"
   ]
  },
  {
   "cell_type": "code",
   "execution_count": 151,
   "metadata": {},
   "outputs": [
    {
     "name": "stdout",
     "output_type": "stream",
     "text": [
      "7 6\n"
     ]
    }
   ],
   "source": [
    "first = second = float(\"-inf\")\n",
    "\n",
    "for i in range(0,len(arr)):\n",
    "    if arr[i] > first :\n",
    "        second = first \n",
    "        first = arr[i]\n",
    "    elif  arr[i] > second :\n",
    "        second = arr[i]\n",
    "print(first,second)"
   ]
  },
  {
   "cell_type": "code",
   "execution_count": 152,
   "metadata": {},
   "outputs": [
    {
     "name": "stdout",
     "output_type": "stream",
     "text": [
      "inf\n"
     ]
    }
   ],
   "source": [
    "print(float(\"inf\"))"
   ]
  },
  {
   "cell_type": "code",
   "execution_count": 158,
   "metadata": {},
   "outputs": [
    {
     "data": {
      "text/plain": [
       "float"
      ]
     },
     "execution_count": 158,
     "metadata": {},
     "output_type": "execute_result"
    }
   ],
   "source": [
    "type(float(\"inf\"))"
   ]
  },
  {
   "cell_type": "code",
   "execution_count": 160,
   "metadata": {},
   "outputs": [
    {
     "name": "stdout",
     "output_type": "stream",
     "text": [
      "[1, 1, 1, 2, 2, 2, 3, 3, 4, 4]\n"
     ]
    }
   ],
   "source": [
    "arr = [1,1,1,2,2,2,3,3,4,4]\n",
    "\n",
    "curr = 0 \n",
    "for i in range(1,len(arr)):\n",
    "    if arr[i] != arr[curr]:\n",
    "        curr += 1\n",
    "    else :\n",
    "        arr[curr] = arr[i]\n",
    "        curr = i\n",
    "print(arr)\n"
   ]
  },
  {
   "cell_type": "code",
   "execution_count": 163,
   "metadata": {},
   "outputs": [
    {
     "name": "stdout",
     "output_type": "stream",
     "text": [
      "[1, 3, 4, 5, 6, 7, 8, 9, 2]\n"
     ]
    }
   ],
   "source": [
    "arr = [1,2,3,4,5,6,7,8,9]\n",
    "d = 1\n",
    "for i in range(len(arr)):\n",
    "    temp = arr[i]\n",
    "    arr[i] = arr[(i+d)%len(arr)]\n",
    "    arr[(i+d)%len(arr)] = temp\n",
    "print(arr)"
   ]
  },
  {
   "cell_type": "code",
   "execution_count": 164,
   "metadata": {},
   "outputs": [
    {
     "name": "stdout",
     "output_type": "stream",
     "text": [
      "[1, 2, 3, 5, 2, 0, 0]\n"
     ]
    }
   ],
   "source": [
    "arr = [1,2,0,3,0,5,2]\n",
    "\n",
    "curr = 0 \n",
    "for i in range(len(arr)):\n",
    "    if arr[i]!= 0 :\n",
    "        arr[curr] = arr[i]\n",
    "        curr += 1\n",
    "\n",
    "for i in range(curr,len(arr)):\n",
    "    arr[i] = 0\n",
    "print(arr)"
   ]
  },
  {
   "cell_type": "code",
   "execution_count": 3,
   "metadata": {},
   "outputs": [
    {
     "name": "stdout",
     "output_type": "stream",
     "text": [
      "[0, 0, 0, 0]\n",
      "[0, 0, 0, 1]\n",
      "[0, 0, 1, 0]\n",
      "[0, 0, 1, 1]\n",
      "[0, 1, 0, 0]\n",
      "[0, 1, 0, 1]\n",
      "[0, 1, 1, 0]\n",
      "[0, 1, 1, 1]\n",
      "[1, 0, 0, 0]\n",
      "[1, 0, 0, 1]\n",
      "[1, 0, 1, 0]\n",
      "[1, 0, 1, 1]\n",
      "[1, 1, 0, 0]\n",
      "[1, 1, 0, 1]\n",
      "[1, 1, 1, 0]\n",
      "[1, 1, 1, 1]\n"
     ]
    }
   ],
   "source": [
    "n = int(input(\"Enter the number : \"))\n",
    "arr = []\n",
    "k = 0 \n",
    "def bin(arr,k,n ):\n",
    "    if len(arr) == n:\n",
    "        print(arr)\n",
    "        return \n",
    "    for i in range(2):\n",
    "        arr.append(i)\n",
    "        bin(arr,k+1,n)\n",
    "        arr.pop()\n",
    "bin(arr,k,n)\n"
   ]
  },
  {
   "cell_type": "code",
   "execution_count": 9,
   "metadata": {},
   "outputs": [
    {
     "name": "stdout",
     "output_type": "stream",
     "text": [
      "['((()))', '(()())', '(())()', '()(())', '()()()']\n"
     ]
    }
   ],
   "source": [
    "n = int(input(\"Enter the  size : \"))\n",
    "ans = []\n",
    "def para(s,l,r):\n",
    "    if len(s) == 2*n:\n",
    "        ans.append(s)\n",
    "        return \n",
    "    if l < n :\n",
    "        para(s+\"(\",l+1,r)\n",
    "    if l>r :\n",
    "        para(s+\")\",l,r+1)\n",
    "l = 0 \n",
    "r = 0 \n",
    "s = \"\"\n",
    "para(s,l,r)\n",
    "print(ans)"
   ]
  },
  {
   "cell_type": "code",
   "execution_count": 13,
   "metadata": {},
   "outputs": [
    {
     "name": "stdout",
     "output_type": "stream",
     "text": [
      "()\n",
      "c\n",
      "b\n",
      "bc\n",
      "a\n",
      "ac\n",
      "ab\n",
      "abc\n"
     ]
    }
   ],
   "source": [
    "val = [\"a\",\"b\",\"c\"]\n",
    "ans = []\n",
    "k = 0 \n",
    "def power(ans ,k):\n",
    "    if len(ans) == n :\n",
    "        s = \"\"\n",
    "        for i in range(n):\n",
    "            if ans[i] == 1:\n",
    "                s+=val[i]\n",
    "        if len(s) == 0:\n",
    "            print(\"()\")\n",
    "        else:print(s)\n",
    "        return\n",
    "    for i in range(2):\n",
    "        ans.append(i)\n",
    "        power(ans,k+1)\n",
    "        ans.pop()\n",
    "power(ans,k)"
   ]
  },
  {
   "cell_type": "code",
   "execution_count": 3,
   "metadata": {},
   "outputs": [],
   "source": [
    "mem = [[-1]*5]*5 "
   ]
  },
  {
   "cell_type": "code",
   "execution_count": 4,
   "metadata": {},
   "outputs": [
    {
     "name": "stdout",
     "output_type": "stream",
     "text": [
      "[[-1, -1, -1, -1, -1], [-1, -1, -1, -1, -1], [-1, -1, -1, -1, -1], [-1, -1, -1, -1, -1], [-1, -1, -1, -1, -1]]\n"
     ]
    }
   ],
   "source": [
    "print(mem)"
   ]
  },
  {
   "cell_type": "code",
   "execution_count": null,
   "metadata": {},
   "outputs": [
    {
     "name": "stdout",
     "output_type": "stream",
     "text": [
      "True\n",
      "[[5, 1, 2, 1, 2, 1, 1, 1, 6, 1, 7, 2, 1, 1, 6, 2, 1, 7, 1, 2, 1, 1], [5, 1, 2, 1, 2, 1, 1, 1, 6, 1, 7, 2, 1, 1, 6, 2, 1, 7, 1, 2, 1, 1], [5, 1, 2, 1, 2, 1, 1, 1, 6, 1, 7, 2, 1, 1, 6, 2, 1, 7, 1, 2, 1, 1], [5, 1, 2, 1, 2, 1, 1, 1, 6, 1, 7, 2, 1, 1, 6, 2, 1, 7, 1, 2, 1, 1], [5, 1, 2, 1, 2, 1, 1, 1, 6, 1, 7, 2, 1, 1, 6, 2, 1, 7, 1, 2, 1, 1], [5, 1, 2, 1, 2, 1, 1, 1, 6, 1, 7, 2, 1, 1, 6, 2, 1, 7, 1, 2, 1, 1]]\n"
     ]
    }
   ],
   "source": [
    "candidates =[10,1,2,7,6,1,5]\n",
    "target = 8\n",
    "n = len(candidates)\n",
    "ans = []\n",
    "def sub(n,s,temp):\n",
    "    if s == 0 :\n",
    "        ans.append(temp)\n",
    "        return 1\n",
    "    if n == 0 :\n",
    "        return 0 \n",
    "    if candidates[n-1]<=s:\n",
    "        temp.append(candidates[n-1])\n",
    "        return sub(n-1,s-candidates[n-1],temp) + sub(n-1,s,temp)\n",
    "\n",
    "    else:\n",
    "        return sub(n-1,s,temp)\n",
    "        \n",
    "    \n",
    "if sub(n,target,[]) > 0 :\n",
    "    print(\"True\")\n",
    "else:\n",
    "    print(\"False\")\n",
    "print(ans)"
   ]
  },
  {
   "cell_type": "code",
   "execution_count": 15,
   "metadata": {},
   "outputs": [
    {
     "name": "stdout",
     "output_type": "stream",
     "text": [
      "True\n",
      "[[1, 1, 6], [1, 2, 5], [1, 7], [2, 6]]\n"
     ]
    }
   ],
   "source": [
    "def combinationSum2(candidates, target):\n",
    "    candidates.sort()  # Sort to handle duplicates properly\n",
    "    res = []\n",
    "\n",
    "    def backtrack(start, target, path):\n",
    "        if target == 0:\n",
    "            res.append(path[:])  # Make a copy of path\n",
    "            return\n",
    "        for i in range(start, len(candidates)):\n",
    "            if i > start and candidates[i] == candidates[i - 1]:  # Skip duplicates\n",
    "                continue\n",
    "            if candidates[i] > target:  # If current element exceeds target, stop\n",
    "                break\n",
    "            path.append(candidates[i])\n",
    "            backtrack(i + 1, target - candidates[i], path)  # Move to the next index\n",
    "            path.pop()  # Backtrack\n",
    "\n",
    "    backtrack(0, target, [])\n",
    "    return res\n",
    "\n",
    "candidates = [10,1,2,7,6,1,5]\n",
    "target = 8\n",
    "result = combinationSum2(candidates, target)\n",
    "\n",
    "if result:\n",
    "    print(\"True\")\n",
    "else:\n",
    "    print(\"False\")\n",
    "\n",
    "print(result)\n"
   ]
  },
  {
   "cell_type": "code",
   "execution_count": null,
   "metadata": {},
   "outputs": [],
   "source": []
  }
 ],
 "metadata": {
  "kernelspec": {
   "display_name": "Python 3 (ipykernel)",
   "language": "python",
   "name": "python3"
  },
  "language_info": {
   "codemirror_mode": {
    "name": "ipython",
    "version": 3
   },
   "file_extension": ".py",
   "mimetype": "text/x-python",
   "name": "python",
   "nbconvert_exporter": "python",
   "pygments_lexer": "ipython3",
   "version": "3.11.9"
  }
 },
 "nbformat": 4,
 "nbformat_minor": 4
}
