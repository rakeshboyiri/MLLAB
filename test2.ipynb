{
 "cells": [
  {
   "cell_type": "code",
   "execution_count": 1,
   "metadata": {},
   "outputs": [
    {
     "name": "stdout",
     "output_type": "stream",
     "text": [
      "Hello\n"
     ]
    }
   ],
   "source": [
    "print(\"Hello\")"
   ]
  },
  {
   "cell_type": "code",
   "execution_count": null,
   "metadata": {},
   "outputs": [
    {
     "ename": "SyntaxError",
     "evalue": "incomplete input (2213876541.py, line 1)",
     "output_type": "error",
     "traceback": [
      "\u001b[0;36m  Cell \u001b[0;32mIn[2], line 1\u001b[0;36m\u001b[0m\n\u001b[0;31m    for i in range(10):\u001b[0m\n\u001b[0m                       ^\u001b[0m\n\u001b[0;31mSyntaxError\u001b[0m\u001b[0;31m:\u001b[0m incomplete input\n"
     ]
    }
   ],
   "source": []
  },
  {
   "cell_type": "code",
   "execution_count": 9,
   "metadata": {},
   "outputs": [
    {
     "name": "stdout",
     "output_type": "stream",
     "text": [
      "Not found\n"
     ]
    }
   ],
   "source": [
    "a = [1,3,5,7,9]\n",
    "target = 9\n",
    "low = 0 \n",
    "high = len(a) -1\n",
    "ans = -1\n",
    "while low <= high:\n",
    "    mid = (low + high) //2 \n",
    "    if a[mid] <= target:\n",
    "        low = mid +1\n",
    "    else :\n",
    "        ans = mid\n",
    "        high = mid -1\n",
    "if ans != -1:\n",
    "    print(a[ans])\n",
    "else:\n",
    "    print(\"Not found\")"
   ]
  },
  {
   "cell_type": "code",
   "execution_count": 15,
   "metadata": {},
   "outputs": [
    {
     "name": "stdout",
     "output_type": "stream",
     "text": [
      "2\n"
     ]
    }
   ],
   "source": [
    "arr = [1, 2, 4, 7]\n",
    "x = 6\n",
    "low = 0 \n",
    "high = len(arr) -1\n",
    "ans = -1 \n",
    "while(low <= high):\n",
    "    mid = (low + high) //2\n",
    "    if arr[mid] <= x :\n",
    "        ans = mid \n",
    "        low = mid +1\n",
    "    else:\n",
    "        high = mid -1\n",
    "print(ans)"
   ]
  },
  {
   "cell_type": "code",
   "execution_count": 18,
   "metadata": {},
   "outputs": [
    {
     "name": "stdout",
     "output_type": "stream",
     "text": [
      "zzzzzzzz\n"
     ]
    }
   ],
   "source": [
    "def solve():\n",
    "    t = int(input())  # Read number of test cases\n",
    "\n",
    "    for _ in range(t):\n",
    "        n = int(input())  # Read n\n",
    "        a = input().strip()  # Read string a\n",
    "\n",
    "        p = 'z' * n  # Create a string of length n filled with 'z'\n",
    "        temp = p[::-1]  # Reverse of p (which is also 'z' * n)\n",
    "\n",
    "        larger = True\n",
    "\n",
    "        if p <= a or temp <= a:\n",
    "            larger = False\n",
    "\n",
    "        if larger:\n",
    "            print(p)\n",
    "        else:\n",
    "            print(-1)\n",
    "\n",
    "# Run the function\n",
    "solve()\n"
   ]
  },
  {
   "cell_type": "code",
   "execution_count": 24,
   "metadata": {},
   "outputs": [
    {
     "name": "stdout",
     "output_type": "stream",
     "text": [
      "{1: 2, 3: 4, 5: 6}\n",
      "{1: -1, 3: 4, 5: 6}\n"
     ]
    }
   ],
   "source": [
    "d = {1:2, 3:4, 5:6}\n",
    "print(d)\n",
    "d[1] -=1\n",
    "d[1] -=1\n",
    "d[1] -=1\n",
    "print(d)"
   ]
  },
  {
   "cell_type": "code",
   "execution_count": 7,
   "metadata": {},
   "outputs": [
    {
     "data": {
      "text/plain": [
       "32"
      ]
     },
     "execution_count": 7,
     "metadata": {},
     "output_type": "execute_result"
    }
   ],
   "source": [
    "def fun(x,n):\n",
    "    if n==1:\n",
    "        return x\n",
    "    if n%2==1:\n",
    "        return x * fun(x,n-1)\n",
    "    else:\n",
    "        return  fun(x*x,n//2)\n",
    "fun(2,5)"
   ]
  },
  {
   "cell_type": "code",
   "execution_count": 8,
   "metadata": {},
   "outputs": [
    {
     "name": "stdout",
     "output_type": "stream",
     "text": [
      "8\n"
     ]
    }
   ],
   "source": [
    "base = 2\n",
    "exp = 3\n",
    "ans = 1\n",
    "while(exp>0):\n",
    "    if exp %2==1:\n",
    "        ans =ans *base\n",
    "        exp-=1\n",
    "    else:\n",
    "        base = base * base \n",
    "        exp//=2\n",
    "print(ans)\n"
   ]
  },
  {
   "cell_type": "code",
   "execution_count": 5,
   "metadata": {},
   "outputs": [
    {
     "name": "stdout",
     "output_type": "stream",
     "text": [
      "0.5000\n"
     ]
    }
   ],
   "source": [
    "a = 1\n",
    "b = 2.0000\n",
    "print(format(a/b,\".4f\"))"
   ]
  },
  {
   "cell_type": "code",
   "execution_count": 1,
   "metadata": {},
   "outputs": [
    {
     "name": "stdout",
     "output_type": "stream",
     "text": [
      "2\n"
     ]
    }
   ],
   "source": [
    "print(5//2)"
   ]
  },
  {
   "cell_type": "code",
   "execution_count": 4,
   "metadata": {},
   "outputs": [
    {
     "data": {
      "text/plain": [
       "[1, 3, 3, 5, 7, 8, 9]"
      ]
     },
     "execution_count": 4,
     "metadata": {},
     "output_type": "execute_result"
    }
   ],
   "source": [
    "st = [5,3,1,7,8,3,9]\n",
    "\n",
    "def sort_fun(arr):\n",
    "    if len(arr)==1:\n",
    "        return \n",
    "    ele = arr.pop()\n",
    "    sort_fun(arr)\n",
    "    insert_ele(arr,ele)\n",
    "    return\n",
    "def insert_ele(arr,ele):\n",
    "    if len(arr)==0 or arr[-1]<=ele:\n",
    "        arr.append(ele)\n",
    "        return\n",
    "    temp = arr.pop()\n",
    "    insert_ele(arr,ele)\n",
    "    arr.append(temp)\n",
    "    return\n",
    "sort_fun(st)\n",
    "st"
   ]
  },
  {
   "cell_type": "code",
   "execution_count": 13,
   "metadata": {},
   "outputs": [
    {
     "data": {
      "text/plain": [
       "[5, 4, 3, 2, 1]"
      ]
     },
     "execution_count": 13,
     "metadata": {},
     "output_type": "execute_result"
    }
   ],
   "source": [
    "st = [1,2,3,4,5]\n",
    "\n",
    "def sort_fun(arr):\n",
    "    if len(arr) == 1 :\n",
    "        return\n",
    "    ele = arr.pop()\n",
    "    sort_fun(arr)\n",
    "    insertat(arr,ele)\n",
    "    return\n",
    "def insertat(arr,ele):\n",
    "    if len(arr) == 0:\n",
    "        arr.append(ele)\n",
    "        return\n",
    "    e = arr.pop()\n",
    "    insertat(arr,ele)\n",
    "    arr.append(e)\n",
    "    return\n",
    "\n",
    "sort_fun(st)\n",
    "st"
   ]
  },
  {
   "cell_type": "code",
   "execution_count": 10,
   "metadata": {},
   "outputs": [
    {
     "data": {
      "text/plain": [
       "True"
      ]
     },
     "execution_count": 10,
     "metadata": {},
     "output_type": "execute_result"
    }
   ],
   "source": [
    "a = []\n",
    "\n",
    "not a"
   ]
  },
  {
   "cell_type": "code",
   "execution_count": 13,
   "metadata": {},
   "outputs": [
    {
     "name": "stdout",
     "output_type": "stream",
     "text": [
      "<a class=\"nav-link\" data-widget=\"pushmenu\" href=\"#\"><i class=\"fas fa-bars\"></i></a>\n",
      "<a class=\"nav-link\" href=\"/hub/default/index\">Home</a>\n",
      "<a class=\"nav-link\" href=\"/hub/default/support\">Contact</a>\n",
      "<a class=\"nav-link\" data-toggle=\"dropdown\" href=\"#\">\n",
      "<i class=\"fas fa-sign-in-alt\"></i> Log In\n",
      "                  </a>\n",
      "<a class=\"dropdown-item\" href=\"/hub/default/user/request_reset_password?_next=%2Fhub%2Fdefault%2Fuser\">\n",
      "<i class=\"fas fa-key mr-2\"></i> Forgot Password?\n",
      "                     </a>\n",
      "<a class=\"dropdown-item\" href=\"/hub/default/user/retrieve_username?_next=%2Fhub%2Fdefault%2Fuser\">\n",
      "<i class=\"fas fa-user mr-2\"></i> Forgot Username?\n",
      "                     </a>\n",
      "<a class=\"dropdown-item\" href=\"/hub/default/user/login?_next=%2Fhub%2Fdefault%2Fuser\">\n",
      "<i class=\"fas fa-sign-in-alt\"></i> Log In\n",
      "                     </a>\n",
      "<a class=\"brand-link\" href=\"/hub/default/index\">\n",
      "<!--\n",
      "                  <img src=\"/hub/static/images/logo.png\" alt=\"RGUKT Logo\" class=\"brand-image img-circle elevation-3\" style=\"opacity: .8\" />\n",
      "                  -->\n",
      "<span class=\"img-circle elevation-3\">\n",
      "<img alt=\"\" class=\"brand-image img-circle\" src=\"/hub/static/images/logo.png\" style=\"width:35px\"/>\n",
      "</span>\n",
      "<!-- logo for regular state and mobile devices -->\n",
      "<span class=\"brand-text font-weight-light\">RGUKT<b> Info. Hub</b></span>\n",
      "</a>\n",
      "<a class=\"nav-link\" href=\"/hub/default/index\"><i class=\"fas fa-home\"> </i><p><span>Home</span></p></a>\n",
      "<a class=\"nav-link\" href=\"#\"><i class=\"fas fa-book\"> </i><p><span>Academic Section</span><i class=\"right fas fa-angle-left pull-right\"> </i></p></a>\n",
      "<a class=\"nav-link\" href=\"/hub/academic/index\"><i class=\"fas fa-home\"> </i><p><span>Academics</span></p></a>\n",
      "<a class=\"nav-link\" href=\"/hub/academic/timetable\"><i class=\"fas fa-list\"> </i><p><span>Timetables</span></p></a>\n",
      "<a class=\"nav-link\" href=\"/hub/branchalloc/index\"><i class=\"fas fa-bullhorn\"> </i><p><span>Branch Preferences</span></p></a>\n",
      "<a class=\"nav-link\" href=\"/hub/crs/index\"><i class=\"fas fa-plus\"> </i><p><span>Semester Registration</span></p></a>\n",
      "<a class=\"nav-link\" href=\"/hub/efms/index\"><i class=\"fas fa-adjust\"> </i><p><span>Teachers Performance Survey</span></p></a>\n",
      "<a class=\"nav-link\" href=\"/hub/ams/studentreport\"><i class=\"fas fa-laptop text-yellow\"> </i><p><span>Regular Attendance</span></p></a>\n",
      "<a class=\"nav-link\" href=\"/hub/rams/studentreport\"><i class=\"fas fa-laptop text-green\"> </i><p><span>Remedial Attendance</span></p></a>\n",
      "<a class=\"nav-link\" href=\"/hub/cams/studentreport\"><i class=\"fas fa-laptop text-red\"> </i><p><span>Monitoring Attendance</span></p></a>\n",
      "<a class=\"nav-link\" href=\"#\"><i class=\"fas fa-lock\"> </i><p><span>Examination Section</span><i class=\"right fas fa-angle-left pull-right\"> </i></p></a>\n",
      "<a class=\"nav-link\" href=\"/hub/examination/index\"><i class=\"fas fa-home\"> </i><p><span>Examination</span></p></a>\n",
      "<a class=\"nav-link\" href=\"/hub/ht/printht\"><i class=\"fas fa-list-alt\"> </i><p><span>Download Hall Ticket</span></p></a>\n",
      "<a class=\"nav-link\" href=\"/hub/results/myresult\"><i class=\"fas fa-list\"> </i><p><span>Semester Results</span></p></a>\n",
      "<a class=\"nav-link\" href=\"/hub/mt/mtresults\"><i class=\"fas fa-suitcase text-green\"> </i><p><span>MT Results</span></p></a>\n",
      "<a class=\"nav-link\" href=\"/hub/ers/index\"><i class=\"fas fa-plus\"> </i><p><span>Apply for Regular Exams</span></p></a>\n",
      "<a class=\"nav-link\" href=\"/hub/ers/index\"><i class=\"fas fa-plus\"> </i><p><span>Apply for Remedial or GI</span></p></a>\n",
      "<a class=\"nav-link\" href=\"/hub/revaluation/index\"><i class=\"fas fa-plus\"> </i><p><span>Apply for Reverification</span></p></a>\n",
      "<a class=\"nav-link\" href=\"/hub/examhall/index\"><i class=\"fas fa-list-alt\"> </i><p><span>Find Your Exam Hall</span></p></a>\n",
      "<a class=\"nav-link\" href=\"/hub/ocr/index\"><i class=\"fas fa-certificate\"> </i><p><span>Online Certificate Requests</span></p></a>\n",
      "<a class=\"nav-link\" href=\"#\"><i class=\"fas fa-asterisk\"> </i><p><span>LMS</span><i class=\"right fas fa-angle-left pull-right\"> </i></p></a>\n",
      "<a class=\"nav-link\" href=\"/hub/lms/index\"><i class=\"fas fa-home\"> </i><p><span>LMS Home</span></p></a>\n",
      "<a class=\"nav-link\" href=\"#\"><i class=\"fas fa-user text-blue\"> </i><p><span>Student</span><i class=\"right fas fa-angle-left pull-right\"> </i></p></a>\n",
      "<a class=\"nav-link\" href=\"/hub/mydata/index\"><i class=\"fas fa-user\"> </i><p><span>e-Profile</span></p></a>\n",
      "<a class=\"nav-link\" href=\"/hub/feedue/index\"><i class=\"fas fa-usd\"> </i><p><span>Tution Fee Dues</span></p></a>\n",
      "<a class=\"nav-link\" href=\"/hub/results/myresult\"><i class=\"fas fa-list\"> </i><p><span>Results</span></p></a>\n",
      "<a class=\"nav-link\" href=\"/hub/mess/index\"><i class=\"fas fa-adjust\"> </i><p><span>Food Survey</span></p></a>\n",
      "<a class=\"nav-link\" href=\"/hub/efms/index\"><i class=\"fas fa-adjust\"> </i><p><span>Teachers Performance Survey</span></p></a>\n",
      "<a class=\"nav-link\" href=\"/hub/laptop/index\"><i class=\"fas fa-laptop text-green\"> </i><p><span>Registration for Laptop</span></p></a>\n",
      "<a class=\"nav-link\" href=\"/hub/convocation/index\"><i class=\"fas fa-plus\"> </i><p><span>Apply for Convocation</span></p></a>\n",
      "<a class=\"nav-link\" href=\"/hub/sndc/index\"><i class=\"fas fa-certificate text-green\"> </i><p><span>Online No Due Certificate</span></p></a>\n",
      "<a class=\"nav-link\" href=\"/hub/examination/home\"><i class=\"fas fa-certificate text-red\"> </i><p><span>Online Certificate Requests</span></p></a>\n",
      "<a class=\"nav-link\" href=\"#\"><i class=\"fas fa-laptop text-red\"> </i><p><span>Outpass</span><i class=\"right fas fa-angle-left pull-right\"> </i></p></a>\n",
      "<a class=\"nav-link\" href=\"/hub/outpass/index\"><i class=\"fas fa-home\"> </i><p><span>Apply</span></p></a>\n",
      "<a class=\"nav-link\" href=\"#\"><i class=\"fas fa-asterisk text-red\"> </i><p><span>T&amp;P Cell</span><i class=\"right fas fa-angle-left pull-right\"> </i></p></a>\n",
      "<a class=\"nav-link\" href=\"/hub/tnp/index\"><i class=\"fas fa-home\"> </i><p><span>T&amp;P - Home</span></p></a>\n",
      "<a class=\"nav-link\" href=\"/hub/tnp/internship2k19\"><i class=\"fas fa-plus\"> </i><p><span>Internship Registration</span></p></a>\n",
      "<a class=\"nav-link\" href=\"/hub/tnp/tnpregistration\"><i class=\"fas fa-plus\"> </i><p><span>T&amp;P Cell Registration</span></p></a>\n",
      "<a class=\"nav-link\" href=\"/hub/tnp/register\"><i class=\"fas fa-pencil\"> </i><p><span>Drives Registration</span></p></a>\n",
      "<a class=\"nav-link\" href=\"/hub/crt/feedback\"><i class=\"fas fa-adjust\"> </i><p><span>CRT Feedback Survey</span></p></a>\n",
      "<a class=\"nav-link\" href=\"/hub/tnp/upcomingevents\"><i class=\"fas fa-bullhorn\"> </i><p><span>Upcoming Events</span></p></a>\n",
      "<a class=\"nav-link\" href=\"#\"><i class=\"fas fa-user text-green\"> </i><p><span>Staff</span><i class=\"right fas fa-angle-left pull-right\"> </i></p></a>\n",
      "<a class=\"nav-link\" href=\"/hub/payslipadmin/viewpaylist\"><i class=\"fas fa-usd text-green\"> </i><p><span>View Salary - PaySlip</span></p></a>\n",
      "<a class=\"nav-link\" href=\"/hub/lms/index\"><i class=\"fas fa-envelope\"> </i><p><span>LMS</span></p></a>\n",
      "<a class=\"nav-link\" href=\"/hub/emp/index\"><i class=\"fas fa-user\"> </i><p><span>e-Profile</span></p></a>\n",
      "<a class=\"nav-link\" href=\"/hub/ams/index\"><i class=\"fas fa-flag\"> </i><p><span>AMS</span></p></a>\n",
      "<a class=\"nav-link\" href=\"/hub/cams/index\"><i class=\"fas fa-laptop text-red\"> </i><p><span>Monitoring Attendance</span></p></a>\n",
      "<a class=\"nav-link\" href=\"/hub/mt/index\"><i class=\"fas fa-suitcase text-green\"> </i><p><span>MTMS</span></p></a>\n",
      "<a class=\"nav-link\" href=\"/hub/ems/qphome\"><i class=\"fas fa-suitcase text-red\"> </i><p><span>Upload Question Papers</span></p></a>\n",
      "<a class=\"nav-link\" href=\"/hub/bama/bamareport\"><i class=\"fas fa-search\"> </i><p><span>BAMA Report</span></p></a>\n",
      "<a class=\"nav-link\" href=\"/hub/efmsreport/index\"><i class=\"fas fa-eye text-red\"> </i><p><span>Students Feedback</span></p></a>\n",
      "<a class=\"nav-link\" href=\"/hub/empmess/register\"><i class=\"fas fa-plus\"> </i><p><span>Mess Registration</span></p></a>\n",
      "<a class=\"nav-link\" href=\"/hub/sndcadmin/index\"><i class=\"fas fa-certificate text-green\"> </i><p><span>SNDC Dashboard</span></p></a>\n",
      "<a class=\"nav-link\" href=\"#\"><i class=\"fas fa-book text-yellow\"> </i><p><span>Math Club</span><i class=\"right fas fa-angle-left pull-right\"> </i></p></a>\n",
      "<a class=\"nav-link\" href=\"/hub/mathclub/index\"><i class=\"fas fa-bullhorn\"> </i><p><span>New &amp; Events</span></p></a>\n",
      "<a class=\"nav-link\" href=\"/hub/mathclub/biography\"><i class=\"fas fa-envelope\"> </i><p><span>Biographies</span></p></a>\n",
      "<a class=\"nav-link\" href=\"#\"><i class=\"fas fa-book text-red\"> </i><p><span>Techno సాహితి</span><i class=\"right fas fa-angle-left pull-right\"> </i></p></a>\n",
      "<a class=\"nav-link\" href=\"/hub/tlc/index\"><i class=\"fas fa-home\"> </i><p><span>About Telugu Literary Club</span></p></a>\n",
      "<a class=\"nav-link\" href=\"/hub/tlc/notices\"><i class=\"fas fa-bullhorn\"> </i><p><span>Notices</span></p></a>\n",
      "<a class=\"nav-link\" href=\"/hub/tlc/speech\"><i class=\"fas fa-envelope\"> </i><p><span>Expert Speeches</span></p></a>\n",
      "<a class=\"nav-link\" href=\"/hub/tlc/editions\"><i class=\"fas fa-book\"> </i><p><span>Editions / Books</span></p></a>\n",
      "<a class=\"nav-link\" href=\"/hub/tlc/submitarticle\"><i class=\"fas fa-send\"> </i><p><span>Upload Writings</span></p></a>\n",
      "<a class=\"nav-link\" href=\"#\"><i class=\"fas fa-book text-blue\"> </i><p><span>e-Magazine</span><i class=\"right fas fa-angle-left pull-right\"> </i></p></a>\n",
      "<a class=\"nav-link\" href=\"/hub/thestudent/aboutus\"><i class=\"fas fa-home\"> </i><p><span>About Us</span></p></a>\n",
      "<a class=\"nav-link\" href=\"/hub/thestudent/editions\"><i class=\"fas fa-file\"> </i><p><span>Editions</span></p></a>\n",
      "<a class=\"nav-link\" href=\"/hub/thestudent/team\"><i class=\"fas fa-users\"> </i><p><span>Editorial Team</span></p></a>\n",
      "<a class=\"nav-link\" href=\"/hub/thestudent/yearplan\"><i class=\"fas fa-calendar\"> </i><p><span>Year Plan</span></p></a>\n",
      "<a class=\"nav-link\" href=\"/hub/thestudent/submitarticle\"><i class=\"fas fa-send\"> </i><p><span>Article Submissin</span></p></a>\n",
      "<a class=\"nav-link\" href=\"/hub/thestudent/feedback\"><i class=\"fas fa-send\"> </i><p><span>Feedback</span></p></a>\n",
      "<a class=\"nav-link\" href=\"/hub/notice/index\"><i class=\"fas fa-bullhorn\"> </i><p><span>e-Notice</span></p></a>\n",
      "<a class=\"nav-link\" href=\"/hub/gms/index\"><i class=\"fas fa-flag\"> </i><p><span>Grievance Cell</span></p></a>\n",
      "<a class=\"nav-link\" href=\"/hub/hopehouse/index\"><i class=\"fas fa-leaf\"> </i><p><span>Hope House</span></p></a>\n",
      "<a class=\"nav-link\" href=\"/hub/techfest/index\"><i class=\"fas fa-globe text-red\"> </i><p><span>TechFest</span></p></a>\n",
      "<a class=\"nav-link\" href=\"/hub/default/support\"><i class=\"fas fa-phone\"> </i><p><span>Contact Us</span></p></a>\n",
      "<a class=\"nav-link\" href=\"/hub/default/index\"><i class=\"fas fa-\"> </i><p><span></span></p></a>\n",
      "<a href=\"/hub/default/user/login\"><i class=\"fa fa-user\"></i> Default  </a>\n",
      "<a class=\"btn-block\" href=\"/hub/notice/index\">\n",
      "<i class=\"fa fa-bullhorn\"></i> Recent News &amp; Updates\n",
      "            </a>\n",
      "<a href=\"/hub/default/download/notice.upload_attach.9bbbcccb075d8988.47414d45205343484544554c4553204f4e2053554e4441592e646f6378.docx\" style=\"font-family:Verdana;color:#333;\">\n",
      "<font color=\"#810404\">23, Feb 2025:</font> Intimation regarding the schedules of games on 23/02/2025-Reg.</a>\n",
      "<a href=\"/hub/notice/index\" style=\"font-family:Verdana;color:#333;\">\n",
      "<font color=\"#810404\">22, Feb 2025:</font> Hope House : Heartfelt Condolences &amp; Call for Support</a>\n",
      "<a href=\"https://forms.gle/6SoZMNLp7YWvpJ7n7\" style=\"font-family:Verdana;color:#333;\" target=\"_blank\">\n",
      "<font color=\"#810404\">22, Feb 2025:</font> Registrations for Kathak Workshop</a>\n",
      "<a href=\"/hub/default/download/notice.upload_attach.810f2e869be693d8.415932342d32355f454e47475f53325f4d542d495f54696d655461626c65285454295f466562264d61722d32352e706466.pdf\" style=\"font-family:Verdana;color:#333;\">\n",
      "<font color=\"#810404\">22, Feb 2025:</font> Examination: AY_24-25_E1,E2,E3&amp;E4_S2_MT-I_Timetable(TT)_Feb&amp;Mar-25 </a>\n",
      "<a class=\"btn btn-theme pull-right\" href=\"/hub/notice/index\" style=\"font-family:Verdana;color:blue;\">More Updates &gt;&gt;&gt;</a>\n",
      "<a href=\"/hub/default/index\"> Copyright - RGUKT Basar</a>\n"
     ]
    }
   ],
   "source": [
    "import requests\n",
    "\n",
    "from bs4 import BeautifulSoup\n",
    "\n",
    "main_url = \"https://hub.rgukt.ac.in/hub/default/user/login?_next=/hub/student/index\"\n",
    "re = requests.get(main_url)\n",
    "soup = BeautifulSoup(re.text, \"html.parser\")\n",
    "anchor_tags = soup.find_all(\"a\")\n",
    "for a in anchor_tags:\n",
    "        # href = a.get(\"href\")\n",
    "        # text = a.text.strip()\n",
    "        # print(f\"Text: {text}, Link: {href}\")\n",
    "        print(a)"
   ]
  },
  {
   "cell_type": "code",
   "execution_count": 12,
   "metadata": {},
   "outputs": [
    {
     "name": "stdout",
     "output_type": "stream",
     "text": [
      "<a class=\"gb1\" href=\"https://www.google.com/imghp?hl=en&amp;tab=wi\">Images</a>\n",
      "<a class=\"gb1\" href=\"https://maps.google.co.in/maps?hl=en&amp;tab=wl\">Maps</a>\n",
      "<a class=\"gb1\" href=\"https://play.google.com/?hl=en&amp;tab=w8\">Play</a>\n",
      "<a class=\"gb1\" href=\"https://www.youtube.com/?tab=w1\">YouTube</a>\n",
      "<a class=\"gb1\" href=\"https://news.google.com/?tab=wn\">News</a>\n",
      "<a class=\"gb1\" href=\"https://mail.google.com/mail/?tab=wm\">Gmail</a>\n",
      "<a class=\"gb1\" href=\"https://drive.google.com/?tab=wo\">Drive</a>\n",
      "<a class=\"gb1\" href=\"https://www.google.co.in/intl/en/about/products?tab=wh\" style=\"text-decoration:none\"><u>More</u> »</a>\n",
      "<a class=\"gb4\" href=\"http://www.google.co.in/history/optout?hl=en\">Web History</a>\n",
      "<a class=\"gb4\" href=\"/preferences?hl=en\">Settings</a>\n",
      "<a class=\"gb4\" href=\"https://accounts.google.com/ServiceLogin?hl=en&amp;passive=true&amp;continue=https://www.google.com/&amp;ec=GAZAAQ\" id=\"gb_70\" target=\"_top\">Sign in</a>\n",
      "<a href=\"/advanced_search?hl=en-IN&amp;authuser=0\">Advanced search</a>\n",
      "<a href=\"https://www.google.com/setprefs?sig=0_rC6_gSiYFcg6Sft8BEbcIUjNPJU%3D&amp;hl=hi&amp;source=homepage&amp;sa=X&amp;ved=0ahUKEwidxcTEh9mLAxUvRLgEHdqMNPgQ2ZgBCAY\">हिन्दी</a>\n",
      "<a href=\"https://www.google.com/setprefs?sig=0_rC6_gSiYFcg6Sft8BEbcIUjNPJU%3D&amp;hl=bn&amp;source=homepage&amp;sa=X&amp;ved=0ahUKEwidxcTEh9mLAxUvRLgEHdqMNPgQ2ZgBCAc\">বাংলা</a>\n",
      "<a href=\"https://www.google.com/setprefs?sig=0_rC6_gSiYFcg6Sft8BEbcIUjNPJU%3D&amp;hl=te&amp;source=homepage&amp;sa=X&amp;ved=0ahUKEwidxcTEh9mLAxUvRLgEHdqMNPgQ2ZgBCAg\">తెలుగు</a>\n",
      "<a href=\"https://www.google.com/setprefs?sig=0_rC6_gSiYFcg6Sft8BEbcIUjNPJU%3D&amp;hl=mr&amp;source=homepage&amp;sa=X&amp;ved=0ahUKEwidxcTEh9mLAxUvRLgEHdqMNPgQ2ZgBCAk\">मराठी</a>\n",
      "<a href=\"https://www.google.com/setprefs?sig=0_rC6_gSiYFcg6Sft8BEbcIUjNPJU%3D&amp;hl=ta&amp;source=homepage&amp;sa=X&amp;ved=0ahUKEwidxcTEh9mLAxUvRLgEHdqMNPgQ2ZgBCAo\">தமிழ்</a>\n",
      "<a href=\"https://www.google.com/setprefs?sig=0_rC6_gSiYFcg6Sft8BEbcIUjNPJU%3D&amp;hl=gu&amp;source=homepage&amp;sa=X&amp;ved=0ahUKEwidxcTEh9mLAxUvRLgEHdqMNPgQ2ZgBCAs\">ગુજરાતી</a>\n",
      "<a href=\"https://www.google.com/setprefs?sig=0_rC6_gSiYFcg6Sft8BEbcIUjNPJU%3D&amp;hl=kn&amp;source=homepage&amp;sa=X&amp;ved=0ahUKEwidxcTEh9mLAxUvRLgEHdqMNPgQ2ZgBCAw\">ಕನ್ನಡ</a>\n",
      "<a href=\"https://www.google.com/setprefs?sig=0_rC6_gSiYFcg6Sft8BEbcIUjNPJU%3D&amp;hl=ml&amp;source=homepage&amp;sa=X&amp;ved=0ahUKEwidxcTEh9mLAxUvRLgEHdqMNPgQ2ZgBCA0\">മലയാളം</a>\n",
      "<a href=\"https://www.google.com/setprefs?sig=0_rC6_gSiYFcg6Sft8BEbcIUjNPJU%3D&amp;hl=pa&amp;source=homepage&amp;sa=X&amp;ved=0ahUKEwidxcTEh9mLAxUvRLgEHdqMNPgQ2ZgBCA4\">ਪੰਜਾਬੀ</a>\n",
      "<a href=\"/intl/en/ads/\">Advertising</a>\n",
      "<a href=\"http://www.google.co.in/services/\">Business Solutions</a>\n",
      "<a href=\"/intl/en/about.html\">About Google</a>\n",
      "<a href=\"https://www.google.com/setprefdomain?prefdom=IN&amp;prev=https://www.google.co.in/&amp;sig=K_4piZFWN8aVg0SQ9Q5fVIp9n8jw8%3D\">Google.co.in</a>\n",
      "<a href=\"/intl/en/policies/privacy/\">Privacy</a>\n",
      "<a href=\"/intl/en/policies/terms/\">Terms</a>\n"
     ]
    }
   ],
   "source": [
    "import requests\n",
    "from bs4 import BeautifulSoup\n",
    "\n",
    "re = requests.get(\"https://www.google.com\")\n",
    "if re.status_code == 200:\n",
    "    soup = BeautifulSoup(re.text,\"html.parser\")\n",
    "    # print(soup.prettify())\n",
    "    tags = soup.find_all(\"a\")\n",
    "    for i in tags:\n",
    "        print(i)"
   ]
  },
  {
   "cell_type": "code",
   "execution_count": 2,
   "metadata": {},
   "outputs": [
    {
     "name": "stdout",
     "output_type": "stream",
     "text": [
      "Error: 404\n"
     ]
    }
   ],
   "source": [
    "import requests\n",
    "\n",
    "url = 'https://naatudealssiteofficial.onrender.com/api/products'\n",
    "\n",
    "response = requests.get(url)\n",
    "\n",
    "if response.status_code == 200:\n",
    "    data = response.json()\n",
    "    print(data)  # Display the fetched data\n",
    "else:\n",
    "    print(f\"Error: {response.status_code}\")\n"
   ]
  },
  {
   "cell_type": "code",
   "execution_count": null,
   "metadata": {},
   "outputs": [],
   "source": []
  }
 ],
 "metadata": {
  "kernelspec": {
   "display_name": "Python 3",
   "language": "python",
   "name": "python3"
  },
  "language_info": {
   "codemirror_mode": {
    "name": "ipython",
    "version": 3
   },
   "file_extension": ".py",
   "mimetype": "text/x-python",
   "name": "python",
   "nbconvert_exporter": "python",
   "pygments_lexer": "ipython3",
   "version": "3.11.6"
  }
 },
 "nbformat": 4,
 "nbformat_minor": 2
}
